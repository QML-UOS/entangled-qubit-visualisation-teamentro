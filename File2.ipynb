{
 "cells": [
  {
   "cell_type": "code",
   "execution_count": 0,
   "metadata": {
    "colab": {},
    "colab_type": "code",
    "id": "CxVXfbcA-9r7"
   },
   "outputs": [],
   "source": [
    "# !pip install qiskit"
   ]
  },
  {
   "cell_type": "markdown",
   "metadata": {
    "colab_type": "text",
    "id": "68bfyPo1-2iK"
   },
   "source": [
    "# Visualizing a Quantum Data and Entangled States of two qubits \n"
   ]
  },
  {
   "cell_type": "markdown",
   "metadata": {},
   "source": [
    "Saranraj Nambusubramaniyan"
   ]
  },
  {
   "cell_type": "code",
   "execution_count": 0,
   "metadata": {
    "ExecuteTime": {
     "end_time": "2018-09-29T00:16:38.758552Z",
     "start_time": "2018-09-29T00:16:37.828380Z"
    },
    "colab": {},
    "colab_type": "code",
    "id": "es4i82tM-2iQ"
   },
   "outputs": [],
   "source": [
    "# Circuit design functions\n",
    "from qiskit import QuantumCircuit, ClassicalRegister, QuantumRegister\n",
    "from qiskit.tools.visualization import matplotlib_circuit_drawer as drawer, qx_color_scheme\n",
    "from qiskit import IBMQ \n",
    "\n",
    "\n",
    "# import state tomography functions\n",
    "from qiskit.tools.visualization import plot_histogram, plot_state\n",
    "\n",
    "# Aer, Qiskit element that really speed up development of quantum computers we need better simulators, emulators and debuggers.\n",
    "from qiskit import Aer\n",
    "from qiskit import execute"
   ]
  },
  {
   "cell_type": "code",
   "execution_count": 0,
   "metadata": {
    "ExecuteTime": {
     "end_time": "2018-09-29T00:16:37.663389Z",
     "start_time": "2018-09-29T00:16:37.305670Z"
    },
    "colab": {},
    "colab_type": "code",
    "id": "NnLjQiLF-2iL"
   },
   "outputs": [],
   "source": [
    "# Import libraries\n",
    "\n",
    "import matplotlib.pyplot as plt\n",
    "%matplotlib inline\n",
    "import numpy as np\n",
    "from pprint import pprint\n",
    "from scipy import linalg as la"
   ]
  },
  {
   "cell_type": "markdown",
   "metadata": {
    "colab_type": "text",
    "id": "HuL5R7VK9Dep"
   },
   "source": [
    "### API and backend access "
   ]
  },
  {
   "cell_type": "code",
   "execution_count": 144,
   "metadata": {
    "colab": {
     "base_uri": "https://localhost:8080/",
     "height": 187
    },
    "colab_type": "code",
    "executionInfo": {
     "elapsed": 1503,
     "status": "ok",
     "timestamp": 1539812841244,
     "user": {
      "displayName": "Saran N Subramaniyan",
      "photoUrl": "",
      "userId": "16986668814671639642"
     },
     "user_tz": -330
    },
    "id": "8QKIve2C9Iji",
    "outputId": "c6a8a7a1-1af3-4602-8343-45f96987361a"
   },
   "outputs": [
    {
     "name": "stderr",
     "output_type": "stream",
     "text": [
      "/usr/local/lib/python3.6/dist-packages/qiskit/backends/ibmq/ibmqprovider.py:141: UserWarning: Credentials are already stored.\n",
      "  warnings.warn('Credentials are already stored.')\n",
      "/usr/local/lib/python3.6/dist-packages/qiskit/backends/ibmq/ibmqprovider.py:258: UserWarning: Credentials are already in use.\n",
      "  warnings.warn('Credentials are already in use.')\n"
     ]
    },
    {
     "name": "stdout",
     "output_type": "stream",
     "text": [
      "Available backends:\n"
     ]
    },
    {
     "data": {
      "text/plain": [
       "[<IBMQBackend('ibmqx4') from IBMQ()>,\n",
       " <IBMQBackend('ibmqx5') from IBMQ()>,\n",
       " <IBMQBackend('ibmqx2') from IBMQ()>,\n",
       " <IBMQBackend('ibmq_16_melbourne') from IBMQ()>,\n",
       " <IBMQBackend('ibmq_qasm_simulator') from IBMQ()>]"
      ]
     },
     "execution_count": 144,
     "metadata": {
      "tags": []
     },
     "output_type": "execute_result"
    }
   ],
   "source": [
    "IBMQ.save_account('d9eb68796efbdcfc8454042c342fddbaaa8ecadb1728917d50b2c5765abff0f797a2eb9d82416f44df3c545df8178fd16ba14cb9cf6a677ae1b6235766d31d71')\n",
    "IBMQ.save_account('d9eb68796efbdcfc8454042c342fddbaaa8ecadb1728917d50b2c5765abff0f797a2eb9d82416f44df3c545df8178fd16ba14cb9cf6a677ae1b6235766d31d71', 'URL')\n",
    "\n",
    "IBMQ.load_accounts()\n",
    "print(\"Available backends:\")\n",
    "IBMQ.backends()"
   ]
  },
  {
   "cell_type": "code",
   "execution_count": 145,
   "metadata": {
    "colab": {
     "base_uri": "https://localhost:8080/",
     "height": 34
    },
    "colab_type": "code",
    "executionInfo": {
     "elapsed": 20382,
     "status": "ok",
     "timestamp": 1539812861849,
     "user": {
      "displayName": "Saran N Subramaniyan",
      "photoUrl": "",
      "userId": "16986668814671639642"
     },
     "user_tz": -330
    },
    "id": "1yNiSMER9Syt",
    "outputId": "51499e60-6798-414e-bef1-e598e16c1291"
   },
   "outputs": [
    {
     "name": "stdout",
     "output_type": "stream",
     "text": [
      "The best backend is ibmq_16_melbourne\n"
     ]
    }
   ],
   "source": [
    "from qiskit.backends.ibmq import least_busy\n",
    "\n",
    "large_enough_devices = IBMQ.backends(filters=lambda x: x.configuration()['n_qubits'] > 3 and\n",
    "                                                       not x.configuration()['simulator'])\n",
    "backend = least_busy(large_enough_devices)\n",
    "print(\"The best backend is \" + backend.name())"
   ]
  },
  {
   "cell_type": "markdown",
   "metadata": {
    "colab_type": "text",
    "id": "yC2mNaI4-iQP"
   },
   "source": [
    "### Least busy backends prevents access timeout error. Therefore we use ibmq_16_melbourne"
   ]
  },
  {
   "cell_type": "code",
   "execution_count": 0,
   "metadata": {
    "colab": {},
    "colab_type": "code",
    "id": "tUgpD7Wg_hWI"
   },
   "outputs": [],
   "source": [
    "backend = 'ibmq_16_melbourne'"
   ]
  },
  {
   "cell_type": "markdown",
   "metadata": {
    "colab_type": "text",
    "id": "Nxc7NeVsS19h"
   },
   "source": [
    "### Create the quantum circuit"
   ]
  },
  {
   "cell_type": "code",
   "execution_count": 0,
   "metadata": {
    "colab": {},
    "colab_type": "code",
    "id": "9XbIoA61SyHm"
   },
   "outputs": [],
   "source": [
    "# Create a Quantum Register called \"q\" with 2 qubits\n",
    "qr = QuantumRegister(2, 'q')\n",
    "\n",
    "# Create a Classical Register called \"c\" with 2 bits\n",
    "cr = ClassicalRegister(2, 'c')"
   ]
  },
  {
   "cell_type": "code",
   "execution_count": 156,
   "metadata": {
    "colab": {
     "base_uri": "https://localhost:8080/",
     "height": 34
    },
    "colab_type": "code",
    "executionInfo": {
     "elapsed": 512,
     "status": "ok",
     "timestamp": 1539813005298,
     "user": {
      "displayName": "Saran N Subramaniyan",
      "photoUrl": "",
      "userId": "16986668814671639642"
     },
     "user_tz": -330
    },
    "id": "asCfN6LlS-CN",
    "outputId": "fb34e508-41f5-4644-dab1-0d430e68bce9"
   },
   "outputs": [
    {
     "data": {
      "text/plain": [
       "<qiskit.extensions.standard.cx.CnotGate at 0x7fcdda557d68>"
      ]
     },
     "execution_count": 156,
     "metadata": {
      "tags": []
     },
     "output_type": "execute_result"
    }
   ],
   "source": [
    "# Create a Quantum Circuit called involving \"qr\" and \"cr\"\n",
    "\n",
    "circuit = QuantumCircuit(qr, cr)  # Initialize instance of QuantumCircuit\n",
    "\n",
    "circuit.h(qr[0])  # Apply Hadamard transform\n",
    "circuit.cx(qr[0],qr[1])  # Apply CNOT Gate; 0 - Control bit ; 1 - Target bit\n",
    "\n"
   ]
  },
  {
   "cell_type": "markdown",
   "metadata": {
    "colab_type": "text",
    "id": "MkbeMxmqTTYD"
   },
   "source": [
    "### Visualize the circuit"
   ]
  },
  {
   "cell_type": "code",
   "execution_count": 157,
   "metadata": {
    "colab": {
     "base_uri": "https://localhost:8080/",
     "height": 379
    },
    "colab_type": "code",
    "executionInfo": {
     "elapsed": 516,
     "status": "ok",
     "timestamp": 1539813006434,
     "user": {
      "displayName": "Saran N Subramaniyan",
      "photoUrl": "",
      "userId": "16986668814671639642"
     },
     "user_tz": -330
    },
    "id": "Ra1fsQT4TSm0",
    "outputId": "47452edf-07a5-440d-931f-d3b31020d878"
   },
   "outputs": [
    {
     "name": "stdout",
     "output_type": "stream",
     "text": [
      "OPENQASM 2.0;\n",
      "include \"qelib1.inc\";\n",
      "qreg q[2];\n",
      "creg c[2];\n",
      "h q[0];\n",
      "cx q[0],q[1];\n",
      "measure q[0] -> c[0];\n",
      "measure q[1] -> c[1];\n",
      "\n"
     ]
    },
    {
     "data": {
      "image/png": "[encoded data removed]",
      "text/plain": [
       "<matplotlib.figure.Figure at 0x7fcdda368588>"
      ]
     },
     "metadata": {
      "tags": []
     },
     "output_type": "display_data"
    }
   ],
   "source": [
    "circuit.measure(qr,cr)\n",
    "\n",
    "drawer(circuit,style=qx_color_scheme())\n",
    "print(circuit.qasm())"
   ]
  },
  {
   "cell_type": "markdown",
   "metadata": {
    "colab_type": "text",
    "id": "V_BS5_21VOum"
   },
   "source": [
    "### Execute  the quantum circuit"
   ]
  },
  {
   "cell_type": "code",
   "execution_count": 176,
   "metadata": {
    "colab": {
     "base_uri": "https://localhost:8080/",
     "height": 235
    },
    "colab_type": "code",
    "executionInfo": {
     "elapsed": 368547,
     "status": "error",
     "timestamp": 1539816319484,
     "user": {
      "displayName": "Saran N Subramaniyan",
      "photoUrl": "",
      "userId": "16986668814671639642"
     },
     "user_tz": -330
    },
    "id": "sU3q78PL75dh",
    "outputId": "5de22588-3b19-407a-88f6-a5613eaaf607"
   },
   "outputs": [
    {
     "name": "stderr",
     "output_type": "stream",
     "text": [
      "/usr/local/lib/python3.6/dist-packages/qiskit/wrapper/_wrapper.py:312: DeprecationWarning: execute() no longer takes backend string names. Please pass backend objects, obtained viaIBMQ.get_backend() or Aer.get_backend().\n",
      "  'IBMQ.get_backend() or Aer.get_backend().', DeprecationWarning)\n"
     ]
    },
    {
     "ename": "TypeError",
     "evalue": "ignored",
     "output_type": "error",
     "traceback": [
      "\u001b[0;31m---------------------------------------------------------------------------\u001b[0m",
      "\u001b[0;31mTypeError\u001b[0m                                 Traceback (most recent call last)",
      "\u001b[0;32m<ipython-input-176-b380cff6239c>\u001b[0m in \u001b[0;36m<module>\u001b[0;34m()\u001b[0m\n\u001b[1;32m      1\u001b[0m \u001b[0mjob\u001b[0m \u001b[0;34m=\u001b[0m \u001b[0mexecute\u001b[0m\u001b[0;34m(\u001b[0m\u001b[0mcircuit\u001b[0m\u001b[0;34m,\u001b[0m \u001b[0mbackend\u001b[0m\u001b[0;34m=\u001b[0m \u001b[0mbackend\u001b[0m\u001b[0;34m)\u001b[0m\u001b[0;34m\u001b[0m\u001b[0m\n\u001b[0;32m----> 2\u001b[0;31m \u001b[0mstate_entanglement\u001b[0m \u001b[0;34m=\u001b[0m \u001b[0mjob\u001b[0m\u001b[0;34m.\u001b[0m\u001b[0mresult\u001b[0m\u001b[0;34m(\u001b[0m\u001b[0;34m)\u001b[0m\u001b[0;34m.\u001b[0m\u001b[0mresults\u001b[0m\u001b[0;34m(\u001b[0m\u001b[0mcircuit\u001b[0m\u001b[0;34m)\u001b[0m\u001b[0;34m\u001b[0m\u001b[0m\n\u001b[0m",
      "\u001b[0;31mTypeError\u001b[0m: 'collections.OrderedDict' object is not callable"
     ]
    }
   ],
   "source": [
    "job = execute(circuit, backend= backend)\n",
    "state_entanglement = job.result().results()"
   ]
  },
  {
   "cell_type": "code",
   "execution_count": 175,
   "metadata": {
    "ExecuteTime": {
     "end_time": "2018-09-29T00:18:27.796641Z",
     "start_time": "2018-09-29T00:18:27.429070Z"
    },
    "colab": {
     "base_uri": "https://localhost:8080/",
     "height": 34
    },
    "colab_type": "code",
    "executionInfo": {
     "elapsed": 404,
     "status": "ok",
     "timestamp": 1539815762241,
     "user": {
      "displayName": "Saran N Subramaniyan",
      "photoUrl": "",
      "userId": "16986668814671639642"
     },
     "user_tz": -330
    },
    "id": "hbEzePTX-2jv",
    "outputId": "f512564c-fa1a-4b03-f07a-0df511dad6ff"
   },
   "outputs": [
    {
     "name": "stdout",
     "output_type": "stream",
     "text": [
      "state_entanglement =  {'time': 19.28739285469055, 'counts': {'00': 528, '01': 45, '10': 36, '11': 415}, 'date': '2018-10-17T22:03:50.657Z'}\n"
     ]
    }
   ],
   "source": [
    "# backend = Aer.get_backend(backend)\n",
    "\n",
    "#plot_state(state_entanglement,'bloch')\n",
    "print('state_entanglement = ', state_entanglement.get_data(circuit))\n"
   ]
  },
  {
   "cell_type": "code",
   "execution_count": 0,
   "metadata": {
    "colab": {},
    "colab_type": "code",
    "id": "2tI_eUdvRJ_3"
   },
   "outputs": [],
   "source": [
    "\n",
    "# execute the quantum circuit \n",
    "backend = Aer.get_backend('ibmqx_qasm_simulator')\n",
    "job = execute(qc1, backend)\n",
    "state_entanglement = job.result().get_stateve\n",
    "# rho_entanglement=state_2_rho(state_entanglement)\n",
    "plot_state(state_entanglement, 'bloch')\n",
    "# print('rho_entanglement = ', rho_entanglement)\n",
    "print('state_entanglement = ', state_entanglement)"
   ]
  },
  {
   "cell_type": "code",
   "execution_count": 0,
   "metadata": {
    "colab": {},
    "colab_type": "code",
    "id": "dNF-y-l2-2j5"
   },
   "outputs": [],
   "source": []
  }
 ],
 "metadata": {
  "colab": {
   "collapsed_sections": [],
   "name": "qiskit_entangled_visualizations_v0.2.ipynb",
   "provenance": [],
   "version": "0.3.2"
  },
  "kernelspec": {
   "display_name": "Python 3",
   "language": "python",
   "name": "python3"
  },
  "language_info": {
   "codemirror_mode": {
    "name": "ipython",
    "version": 3
   },
   "file_extension": ".py",
   "mimetype": "text/x-python",
   "name": "python",
   "nbconvert_exporter": "python",
   "pygments_lexer": "ipython3",
   "version": "3.7.0"
  }
 },
 "nbformat": 4,
 "nbformat_minor": 1
}
